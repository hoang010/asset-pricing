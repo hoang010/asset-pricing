{
 "cells": [
  {
   "cell_type": "markdown",
   "id": "e5a2c5bf",
   "metadata": {},
   "source": [
    "Market completeness:\n",
    "\n",
    "Given any state of the world and any payoff. There exists enough securities that you are able to reconstruct all the different payoffs using some portfolios of those securities. "
   ]
  },
  {
   "cell_type": "code",
   "execution_count": 1,
   "id": "23e56fce",
   "metadata": {},
   "outputs": [
    {
     "name": "stdout",
     "output_type": "stream",
     "text": [
      "X1u = S1u * 0.02 + R_f * -1.90\n",
      "X1d = S1d * 0.02 + R_f * -1.90\n"
     ]
    }
   ],
   "source": [
    "import numpy as np\n",
    "\n",
    "# simple 1 period model with 2 states\n",
    "S0 = 100\n",
    "S1u = 120\n",
    "S1d = 80\n",
    "\n",
    "# risk-free asset return\n",
    "R_f = 1.05\n",
    "\n",
    "# payoff profile that we want to replicate\n",
    "X1u = 1\n",
    "X1d = 0\n",
    "\n",
    "# payoff of replication portfolio:\n",
    "# X1u = S1u * alpha + R_f * beta\n",
    "# X1d = S1d * alpha + R_f * beta\n",
    "\n",
    "def compute_replication_portfolio( S1u, S1d, X1u, X1d, R_f):\n",
    "    # Ax = X1\n",
    "    X1 = np.array([X1u, X1d])\n",
    "    A = np.array([[S1u, R_f], [S1d, R_f]])\n",
    "    x = np.linalg.solve(A, X1)\n",
    "    return x\n",
    "\n",
    "alpha, beta = compute_replication_portfolio(S1u, S1d, X1u, X1d, R_f)\n",
    "\n",
    "# Solution\n",
    "print(f'X1u = S1u * {alpha:.2f} + R_f * {beta:.2f}')\n",
    "print(f'X1d = S1d * {alpha:.2f} + R_f * {beta:.2f}')\n"
   ]
  }
 ],
 "metadata": {
  "kernelspec": {
   "display_name": "Python 3",
   "language": "python",
   "name": "python3"
  },
  "language_info": {
   "codemirror_mode": {
    "name": "ipython",
    "version": 3
   },
   "file_extension": ".py",
   "mimetype": "text/x-python",
   "name": "python",
   "nbconvert_exporter": "python",
   "pygments_lexer": "ipython3",
   "version": "3.13.1"
  }
 },
 "nbformat": 4,
 "nbformat_minor": 5
}
